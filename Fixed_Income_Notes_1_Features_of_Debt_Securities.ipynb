{
  "nbformat": 4,
  "nbformat_minor": 0,
  "metadata": {
    "colab": {
      "private_outputs": true,
      "provenance": [],
      "authorship_tag": "ABX9TyMm2aNIf2IAFv5jEwrLch3l",
      "include_colab_link": true
    },
    "kernelspec": {
      "name": "python3",
      "display_name": "Python 3"
    },
    "language_info": {
      "name": "python"
    }
  },
  "cells": [
    {
      "cell_type": "markdown",
      "metadata": {
        "id": "view-in-github",
        "colab_type": "text"
      },
      "source": [
        "<a href=\"https://colab.research.google.com/github/AlbertoGalis/AlbertoGalis/blob/main/Fixed_Income_Notes_1_Features_of_Debt_Securities.ipynb\" target=\"_parent\"><img src=\"https://colab.research.google.com/assets/colab-badge.svg\" alt=\"Open In Colab\"/></a>"
      ]
    },
    {
      "cell_type": "markdown",
      "source": [
        "## Fixed Income\n",
        "# Features of Debt Securities\n",
        "* Issuer\n",
        "* Borrower\n",
        "* Lender/creditor\n",
        "\n",
        "Fixed income securities that are debt obligations\n",
        "* bonds\n",
        "* mortgage-backed securities\n",
        "* asset-backed securities\n",
        "* bank loans\n",
        "Fixed income securities that are not\n",
        "* Preferred stock\n",
        "\n",
        "Indenture\n",
        "Covenants\n",
        "Maturity: term to maturity, maturity date\n",
        "\n",
        "* short-term: 1 to 5 years\n",
        "* intermediate-term: 5 to 12 years\n",
        "* long-term: more than 12\n",
        "\n",
        "par-value = principal value = face value = redemption value = maturity value\n",
        "\n",
        "If a bond has a par value of 1,000 and the issue is selling for 900, this bond would be said to be selling at 90. If a bond with a par value of 5,000 is selling for 5,500, the bond is said to be selling for 110.\n",
        "\n",
        "Bonds can be **traded at a discount** or **traded at a premium**.\n",
        "\n",
        "Coupon rate or nominal rate is the interes rate that the issuer agrees to pay each year.\n",
        "\n",
        "$$coupon = coupon \\ rate \\times par \\ value$$\n",
        "\n",
        "Zero coupon bonds are bonds that are not contracted to make periodic payments, the bond is traded at a discount substantially below its par value.\n",
        "\n",
        "\n",
        "Set up notes are securities that have a coupon rate that increases over time.\n",
        "\n",
        "Some bonds have deferred coupon payments for a specified number of years.\n",
        "\n",
        "Floating rate securities or variable-rate securities are bonds which pay a non fixed coupon rate.\n",
        "\n",
        "$$coupon \\ rate = reference \\ rate + quoted \\ margin$$\n",
        "\n",
        "The floating interest rate may have restrictions, a maximum coupon rate is called a **cap** while a minimum is called a **floor**.\n",
        "\n",
        "Inflation-adjusted bonds are floating rate bonds which pay an inflation-linked coupon rate.\n",
        "\n"
      ],
      "metadata": {
        "id": "GgkVXw2JGAlW"
      }
    },
    {
      "cell_type": "code",
      "execution_count": null,
      "metadata": {
        "id": "n-hxiFVCF4LT"
      },
      "outputs": [],
      "source": [
        "\n"
      ]
    }
  ]
}